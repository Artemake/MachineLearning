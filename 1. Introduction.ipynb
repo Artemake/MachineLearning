{
 "cells": [
  {
   "cell_type": "markdown",
   "metadata": {},
   "source": [
    "# 1. Introduction to Machine Learning #"
   ]
  },
  {
   "cell_type": "markdown",
   "metadata": {},
   "source": [
    "**Artificial intelligence** will shape our future more powerfully than any other innovation this century. Anyone who does not understand it will soon find themselves feeling left behind, waking up in a world full of technology that feels more and more like magic."
   ]
  },
  {
   "cell_type": "markdown",
   "metadata": {},
   "source": [
    "## Machine Learning - Definition ##"
   ]
  },
  {
   "cell_type": "markdown",
   "metadata": {},
   "source": [
    "Two definitions of Machine Learning are offered. \n",
    "\n",
    "- *Arthur Samuel (1959)* described it as: **\"the field of study that gives computers the ability to learn without being explicitly programmed.\"** This is an older, informal definition.\n",
    "\n",
    "- *Tom Mitchell (1997)* provides a more modern definition: **\"A computer program is said to learn from experience E with respect to some class of tasks T and performance measure P, if its performance at tasks in T, as measured by P, improves with experience E.\"**\n"
   ]
  },
  {
   "cell_type": "markdown",
   "metadata": {},
   "source": [
    "## Artificial Intelligence & Machine Learning ##"
   ]
  },
  {
   "cell_type": "markdown",
   "metadata": {},
   "source": [
    "![AI Tree](https://cdn-images-1.medium.com/max/1000/1*QJG2nMIqWHmLp2j4c0GVuQ.png)\n",
    "\n",
    "**Artificial intelligence** is the study of agents that perceive the world around them, form plans, and make decisions to achieve their goals. Its foundations include mathematics, logic, philosophy, probability, linguistics, neuroscience, and decision theory. Many fields fall under the umbrella of AI, such as computer vision, robotics, machine learning, and natural language processing.\n",
    "\n",
    "**Machine learning is a subfield of artificial intelligence.** Its goal is to enable computers to learn on their own. A machine’s learning algorithm enables it to identify patterns in observed data, build models that explain the world, and predict things without having explicit pre-programmed rules and models.\n",
    "\n",
    "Applying AI, we wanted to build better and intelligent machines. But except for few mere tasks such as finding the shortest path between point A and B, we were unable to program more complex and constantly evolving challenges. **There was a realisation that the only way to be able to achieve this task was to let machine learn from itself.** This sounds similar to a child learning from its self. So machine learning was developed as a new capability for computers. And now machine learning is present in so many segments of technology, that we don’t even realise it while using it.\n",
    "\n",
    "- Finding patterns in data on planet earth is possible only for human brains. The data being very massive, the time taken to compute is increased, and this is where Machine Learning comes into action, to help people with large data in minimum time.\n",
    "\n",
    "- If big data and cloud computing are gaining importance for their contributions, machine learning as technology helps analyse those big chunks of data, easing the task of data scientists in an automated process and gaining equal importance and recognition.\n",
    "\n",
    "- The techniques we use for data mining have been around for many years, but they were not effective as they did not have the competitive power to run the algorithms. If you run deep learning with access to better data, the output we get will lead to dramatic breakthroughs which is machine learning.\n",
    "\n",
    "\n",
    "<img src=\"./pictures/ml_google_trend.png\" alt=\"Google Trend MAchine Learning\" width=\"1500\" height=\"1500\" />"
   ]
  },
  {
   "cell_type": "markdown",
   "metadata": {},
   "source": [
    "## Why Now? ##"
   ]
  },
  {
   "cell_type": "markdown",
   "metadata": {},
   "source": [
    "1. Exponential Data Growth\n",
    "  * Over 2.5 quintillion bytes of data is generated worldwide every day.\n",
    "  * The amount of global data sphere subject to data analysis will grow to 5.2 zettabytes by 2025.\n",
    "2. Computing Power\n",
    "  * GPUs ----[comparison](https://www.nvidia.com/en-us/geforce/products/10series/compare/)----\n",
    "  * Distributed systems "
   ]
  },
  {
   "cell_type": "markdown",
   "metadata": {},
   "source": [
    "## Where to find it? Everywhere ##"
   ]
  },
  {
   "cell_type": "markdown",
   "metadata": {},
   "source": [
    "<img src=\"https://blogs.gartner.com/smarterwithgartner/files/2019/08/CTMKT_736691_Hype_Cycle_for_AI_2019.png\" alt=\"Gartners Artificial Intelligence\" width=\"1500\" height=\"1500\" />\n",
    "\n",
    "\n",
    "### Applications of Machine Learning ###\n",
    "\n",
    "- In 2015, Google trained a conversational agent (AI) that could not only convincingly interact with humans as a tech support helpdesk, but also discuss morality, express opinions, and answer general facts-based questions. But 2019 -> \n",
    "[![Google Voice Recorder](http://img.youtube.com/vi/RVMqB4W_EH4/0.jpg)](http://www.youtube.com/watch?v=RVMqB4W_EH4)\n",
    "- Database mining Large datasets from growth of automation/web. E.g., Web click data, medical records, biology, engineering\n",
    "- Applications can’t program by hand. E.g., Autonomous helicopter, handwriting recognition, most of Natural Language Processing (NLP), Computer Vision.\n",
    "- Self-customizing programs E.g., Amazon, Netflix product recommendations\n",
    "- Understanding human learning (brain, real AI).\n",
    "- Face detection: Identify faces in images (or indicate if a face is present).\n",
    "- Email filtering: Classify emails into spam and not-spam.\n",
    "- Medical diagnosis: Diagnose a patient as a sufferer or non-sufferer of some disease.\n",
    "- Weather prediction: Predict, for instance, whether or not it will rain tomorrow.\n",
    "- Weaponizing AI [video](https://www.youtube.com/watch?v=TlO2gcs1YvM) and [claire](https://claire-ai.org/)\n",
    "- Document Intelligence [Publications](https://intelligence.csd.auth.gr/publications/)"
   ]
  },
  {
   "cell_type": "markdown",
   "metadata": {},
   "source": [
    "## Main types of Machine Learning ##\n",
    "\n",
    "There are three kinds of Machine Learning Algorithms:\n",
    "\n",
    "1. Supervised Learning\n",
    "\n",
    "2. Unsupervised Learning\n",
    "\n",
    "3. Reinforcement Learning"
   ]
  },
  {
   "cell_type": "markdown",
   "metadata": {},
   "source": [
    "### Supervised Learning ###\n",
    "\n",
    "In supervised learning, we are given a data set and already know what our correct output should look like, having the idea that there is a relationship between the input and the output.\n",
    "\n",
    "Supervised learning problems are categorized into \"regression\" and \"classification\" problems. In a regression problem, we are trying to predict results within a continuous output, meaning that we are trying to map input variables to some continuous function. In a classification problem, we are instead trying to predict results in a discrete output. In other words, we are trying to map input variables into discrete categories.\n",
    "\n",
    "Speaking mathematically, supervised learning is where you have both input **variables (x) and output variables(Y)** and can use an algorithm to derive the mapping function from the input to the output.\n",
    "\n",
    "The mapping function is expressed as Y = f(X).\n",
    "\n",
    "![](https://cdn-images-1.medium.com/max/1000/1*GE2joNHaJKIKIiwxT5jE4Q.png)\n",
    "\n",
    "**Example 1:**\n",
    "\n",
    "Given data about the size of houses on the real estate market, try to predict their price. Price as a function of size is a continuous output, so this is a regression problem.\n",
    "\n",
    "We could turn this example into a classification problem by instead making our output about whether the house \"sells for more or less than the asking price.\" Here we are classifying the houses based on price into two discrete categories.\n",
    "\n",
    "**Example 2:**\n",
    "\n",
    "(a) Regression - Given a picture of a person, we have to predict their age on the basis of the given picture\n",
    "\n",
    "(b) Classification - Given a patient with a tumor, we have to predict whether the tumor is malignant or benign. "
   ]
  },
  {
   "cell_type": "markdown",
   "metadata": {},
   "source": [
    "### Unsupervised Learning ###\n",
    "\n",
    "Unsupervised learning allows us to approach problems with little or no idea what our results should look like. We can derive structure from data where we don't necessarily know the effect of the variables.\n",
    "\n",
    "We can derive this structure by clustering the data based on relationships among the variables in the data.\n",
    "\n",
    "With unsupervised learning there is no feedback based on the prediction results. Mathematically, unsupervised learning is when you only have input data (X) and no corresponding output variables.\n",
    "\n",
    "**Example:**\n",
    "\n",
    "Clustering: Take a collection of 1,000,000 different genes, and find a way to automatically group these genes into groups that are somehow similar or related by different variables, such as lifespan, location, roles, and so on.\n",
    "\n",
    "Non-clustering: The \"Cocktail Party Algorithm\", allows you to find structure in a chaotic environment. (i.e. identifying individual voices and music from a mesh of sounds at a [cocktail party](https://en.wikipedia.org/wiki/Cocktail_party_effect)).\n",
    "\n",
    "Association: An association rule learning problem is where you want to discover rules that describe large portions of your data, such as “people that buy X also tend to buy Y”."
   ]
  },
  {
   "cell_type": "markdown",
   "metadata": {},
   "source": [
    "### Reinforcement Learning ###\n",
    "\n",
    "A computer program will interact with a dynamic environment in which it must perform a particular goal (such as playing a game with an opponent or driving a car). The program is provided feedback in terms of rewards and punishments as it navigates its problem space.\n",
    "\n",
    "Using this algorithm, the machine is trained to make specific decisions. It works this way: **the machine is exposed to an environment where it continuously trains itself using trial and error method.**\n",
    "\n",
    "![](https://cdn-images-1.medium.com/max/1000/1*koj-1K7EmiERGx9l_Okjnw.png)"
   ]
  },
  {
   "cell_type": "markdown",
   "metadata": {},
   "source": [
    "### Sum-Up ###\n",
    "\n",
    "**Learning types:**\n",
    "\n",
    "<img src=\"./pictures/ml_types.png\" alt=\"ML Types\" width=\"1000\" height=\"1000\" />\n",
    "\n",
    "**Supervised Learning Types:**\n",
    "\n",
    "<img src=\"./pictures/supervised_types.png\" alt=\"Sypervised Types\" width=\"1000\" height=\"1000\" />\n"
   ]
  },
  {
   "cell_type": "markdown",
   "metadata": {},
   "source": [
    "## Supervised Learning Algorithms ##\n",
    "Most supervised learning algorithms can be used for both classification and regression. The most notable types of supervised machine learning algorithms are the following:\n",
    "\n",
    "- Γραμμικά μοντέλα (linear models)\n",
    "- Δέντρα απόφασης (decision trees)\n",
    "- Μάθηση κανόνων (rule learning)\n",
    "- Μάθηση κατά-περίπτωση (instance based learning)\n",
    "- Πιθανοτικά μοντέλα (probabilistic models)\n",
    "- Νευρωνικά Δίκτυα (neural networks)\n",
    "- Γενετικοί αλγόριθμοι (genetic algorithms)\n",
    "- Μηχανές διανυσμάτων υποστήριξης (support vector machines)\n",
    "- Συνδυασμός μοντέλων (ensembles of models) \n",
    "\n",
    "## Unsupervised Learning Algorithms ##\n",
    "\n",
    "The most notable unsupervised learning algorithms are:\n",
    "\n",
    "- Ομαδοποίησης:\n",
    "  * k-μέσων (k-means)\n",
    "  * DBSCAN\n",
    "  * Ιεραρχική ομαδοποίηση (Hierarchical Cluster Analysis - HCA)\n",
    "- Οπτικοποίησης και Μείωσης Διαστάσεων\n",
    "  * Ανάλυση Κύριων Συνιστωσών (Principal Component Analysis - PCA)\n",
    "  * Locally-Linear Embedding (LLE)\n",
    "  * t-distributed Stochastic Neighbor Embedding (t-SNE)\n",
    "- Κανόνες Συσχέτισης (Association Rules)\n",
    "  * Apriori\n",
    "  * Eclat\n"
   ]
  },
  {
   "cell_type": "markdown",
   "metadata": {},
   "source": [
    "## Supervised Learning - Model Representation & Notation ##\n",
    "%%latex\n",
    "<img src=\"./pictures/notation.png\" alt=\"notation\" width=\"800\" height=\"800\" />\n",
    "\n",
    "\n",
    "Ως $x^{(i)}$ ορίζουμε τις μεταβλητές εισόδου, που ονομάζονται και χαρακτηριστικά (features), και ως $y^{(i)}$ ορίζουμε τις μεταβλητές εξόδου, που ονομάζονται και μεταβλητές στόχοι (target), και τις οποίες προσπαθούμε να προβλέψουμε. Ένα ζευγάρι $(x^{(i)}$,$y^{(i)})$ ονομάζεται παράδειγμα εκπαίδευσης (training example), ενώ μια λίστα από $m$ παραδείγματα εκπαίδευσης $(x^{(i)}$,$y^{(i)})$; $i = 1,...,m$ ονομάζεται σύνολο εκπαίδευσης.\n",
    "\n",
    "\n",
    "<img src=\"./pictures/learning_process.png\" alt=\"learning_process\" width=\"800\" height=\"800\" />\n",
    "\n",
    "Για να περιγράψουμε τυπικά το πρόβλημα της μάθησης με επίβλεψη, στόχος είναι, ένα σύστημα να μάθει μια συνάρτηση $h: {X} -> y$ έτσι ώστε $h(x)$ να είναι μια καλή πρόβλεψη της αντίστοιχης τιμής $y$. Η συνάρτηση αυτή καλείται συνάρτηση υπόθεσης. \n"
   ]
  },
  {
   "cell_type": "markdown",
   "metadata": {},
   "source": [
    "### Mathematics Needed? ###\n",
    "Here is the minimum level of mathematics that is needed for Machine Learning Engineers / Data Scientists.\n",
    "\n",
    "1. Linear Algebra (Matrix Operations, Projections, Factorisation, Symmetric Matrices, Orthogonalisation)\n",
    "\n",
    "2. Probability Theory and Statistics (Probability Rules & Axioms, Bayes’ Theorem, Random Variables, Variance and Expectation, Conditional and Joint Distributions, Standard Distributions.)\n",
    "\n",
    "3. Calculus (Differential and Integral Calculus, Partial Derivatives)\n",
    "\n",
    "4. Algorithms and Complex Optimisations (Binary Trees, Hashing, Heap, Stack)"
   ]
  },
  {
   "cell_type": "markdown",
   "metadata": {},
   "source": [
    "## Tools, FrameWorks & More ##\n",
    "\n",
    "[MLINTRO](https://github.com/acmauth/mlintro)"
   ]
  },
  {
   "cell_type": "markdown",
   "metadata": {},
   "source": [
    "## [Let's Kaggle Up](https://www.kaggle.com/) ##\n",
    "\n",
    "<img src=\"https://149363136.v2.pressablecdn.com/wp-content/uploads/2017/03/Kaggle-logo.png\" alt=\"kaggle\" width=\"500\" height=\"500\" />\n",
    "\n"
   ]
  },
  {
   "cell_type": "markdown",
   "metadata": {},
   "source": [
    "## Our Projects ##\n",
    " \n",
    "# [GRADE++](https://www.facebook.com/gradeplusplus/) #\n",
    "\n",
    "<img src=\"./pictures/gradepp.png\" alt=\"grade++\" width=\"500\" height=\"500\" />"
   ]
  },
  {
   "cell_type": "markdown",
   "metadata": {},
   "source": [
    "### Bibliography ###\n",
    "- [Medium Article](https://medium.com/machine-learning-for-humans/why-machine-learning-matters-6164faf1df12)\n",
    "- [Coursera Course Machine Learning](https://www.coursera.org/learn/machine-learning/)\n",
    "- [Posts on introduction](https://towardsdatascience.com/introduction-to-machine-learning-db7c668822c4)\n",
    "- [Hands-On Machine Learning with Scikit-Learn & TensorFlow - Aurelien Geron (Book)](https://www.amazon.com/Hands-Machine-Learning-Scikit-Learn-TensorFlow/dp/1491962291)\n",
    "- [Machine Learning: The Art and Science of Algorithms that Make Sense of Data - Peter Flach](https://www.amazon.com/Machine-Learning-Science-Algorithms-Sense-dp-1107096391/dp/1107096391/)\n",
    "- [ageron/handson-ml2 (Repository)](https://github.com/ageron/handson-ml2)"
   ]
  }
 ],
 "metadata": {
  "kernelspec": {
   "display_name": "Python 3",
   "language": "python",
   "name": "python3"
  },
  "language_info": {
   "codemirror_mode": {
    "name": "ipython",
    "version": 3
   },
   "file_extension": ".py",
   "mimetype": "text/x-python",
   "name": "python",
   "nbconvert_exporter": "python",
   "pygments_lexer": "ipython3",
   "version": "3.7.4"
  }
 },
 "nbformat": 4,
 "nbformat_minor": 2
}
